{
 "cells": [
  {
   "cell_type": "code",
   "execution_count": 1,
   "metadata": {},
   "outputs": [],
   "source": [
    "import pandas as pd\n",
    "from parser import parallel_parse, extend_data"
   ]
  },
  {
   "cell_type": "code",
   "execution_count": 2,
   "metadata": {},
   "outputs": [
    {
     "data": {
      "text/plain": [
       "[{'dlg_id': 3,\n",
       "  'greet_and_bye': True,\n",
       "  'greeting_row': 250,\n",
       "  'greeting_text': 'добрый день',\n",
       "  'introduce_row': 251,\n",
       "  'introduce_text': 'меня максим зовут',\n",
       "  'manager_name': 'максим',\n",
       "  'company_row': 251,\n",
       "  'company_name': 'китобизнес',\n",
       "  'bye_row': 300,\n",
       "  'bye_text': 'всего доброго'},\n",
       " {'dlg_id': 1,\n",
       "  'greet_and_bye': True,\n",
       "  'greeting_row': 110,\n",
       "  'greeting_text': 'здравствуйте',\n",
       "  'introduce_row': 111,\n",
       "  'introduce_text': 'меня зовут ангелина',\n",
       "  'manager_name': 'ангелина',\n",
       "  'company_row': 111,\n",
       "  'company_name': 'диджитал бизнес',\n",
       "  'bye_row': 163,\n",
       "  'bye_text': 'до свидания'},\n",
       " {'dlg_id': 5,\n",
       "  'greet_and_bye': False,\n",
       "  'introduce_row': 338,\n",
       "  'introduce_text': 'это анастасия',\n",
       "  'manager_name': 'анастасия',\n",
       "  'bye_row': 479,\n",
       "  'bye_text': 'до свидания хорошего вечера'},\n",
       " {'dlg_id': 0,\n",
       "  'greet_and_bye': True,\n",
       "  'greeting_row': 1,\n",
       "  'greeting_text': 'здравствуйте',\n",
       "  'introduce_row': 3,\n",
       "  'introduce_text': 'меня зовут ангелина',\n",
       "  'manager_name': 'ангелина',\n",
       "  'company_row': 3,\n",
       "  'company_name': 'диджитал бизнес',\n",
       "  'bye_row': 108,\n",
       "  'bye_text': 'всего хорошего до свидания'},\n",
       " {'dlg_id': 2,\n",
       "  'greet_and_bye': False,\n",
       "  'greeting_row': 166,\n",
       "  'greeting_text': 'здравствуйте',\n",
       "  'introduce_row': 167,\n",
       "  'introduce_text': 'меня зовут ангелина',\n",
       "  'manager_name': 'ангелина',\n",
       "  'company_row': 167,\n",
       "  'company_name': 'диджитал бизнес'},\n",
       " {'dlg_id': 4,\n",
       "  'greet_and_bye': False,\n",
       "  'bye_row': 335,\n",
       "  'bye_text': 'до вторника до свидания'}]"
      ]
     },
     "execution_count": 2,
     "metadata": {},
     "output_type": "execute_result"
    }
   ],
   "source": [
    "df = pd.read_csv('test_data.csv')\n",
    "df.role = df.role.map({'manager':'client','client':'manager'})\n",
    "\n",
    "results = parallel_parse(df)\n",
    "results"
   ]
  },
  {
   "cell_type": "code",
   "execution_count": 3,
   "metadata": {},
   "outputs": [
    {
     "data": {
      "text/html": [
       "<div>\n",
       "<style scoped>\n",
       "    .dataframe tbody tr th:only-of-type {\n",
       "        vertical-align: middle;\n",
       "    }\n",
       "\n",
       "    .dataframe tbody tr th {\n",
       "        vertical-align: top;\n",
       "    }\n",
       "\n",
       "    .dataframe thead th {\n",
       "        text-align: right;\n",
       "    }\n",
       "</style>\n",
       "<table border=\"1\" class=\"dataframe\">\n",
       "  <thead>\n",
       "    <tr style=\"text-align: right;\">\n",
       "      <th></th>\n",
       "      <th>dlg_id</th>\n",
       "      <th>line_n</th>\n",
       "      <th>role</th>\n",
       "      <th>text</th>\n",
       "      <th>greeting</th>\n",
       "      <th>manager</th>\n",
       "      <th>company</th>\n",
       "      <th>bye</th>\n",
       "    </tr>\n",
       "  </thead>\n",
       "  <tbody>\n",
       "    <tr>\n",
       "      <th>0</th>\n",
       "      <td>0</td>\n",
       "      <td>0</td>\n",
       "      <td>client</td>\n",
       "      <td>Алло</td>\n",
       "      <td></td>\n",
       "      <td></td>\n",
       "      <td></td>\n",
       "      <td></td>\n",
       "    </tr>\n",
       "    <tr>\n",
       "      <th>1</th>\n",
       "      <td>0</td>\n",
       "      <td>1</td>\n",
       "      <td>manager</td>\n",
       "      <td>Алло здравствуйте</td>\n",
       "      <td>здравствуйте</td>\n",
       "      <td></td>\n",
       "      <td></td>\n",
       "      <td></td>\n",
       "    </tr>\n",
       "    <tr>\n",
       "      <th>2</th>\n",
       "      <td>0</td>\n",
       "      <td>2</td>\n",
       "      <td>client</td>\n",
       "      <td>Добрый день</td>\n",
       "      <td></td>\n",
       "      <td></td>\n",
       "      <td></td>\n",
       "      <td></td>\n",
       "    </tr>\n",
       "    <tr>\n",
       "      <th>3</th>\n",
       "      <td>0</td>\n",
       "      <td>3</td>\n",
       "      <td>manager</td>\n",
       "      <td>Меня зовут ангелина компания диджитал бизнес з...</td>\n",
       "      <td></td>\n",
       "      <td>ангелина</td>\n",
       "      <td>диджитал бизнес</td>\n",
       "      <td></td>\n",
       "    </tr>\n",
       "    <tr>\n",
       "      <th>4</th>\n",
       "      <td>0</td>\n",
       "      <td>4</td>\n",
       "      <td>client</td>\n",
       "      <td>Ага</td>\n",
       "      <td></td>\n",
       "      <td></td>\n",
       "      <td></td>\n",
       "      <td></td>\n",
       "    </tr>\n",
       "  </tbody>\n",
       "</table>\n",
       "</div>"
      ],
      "text/plain": [
       "   dlg_id  line_n     role                                               text  \\\n",
       "0       0       0   client                                               Алло   \n",
       "1       0       1  manager                                  Алло здравствуйте   \n",
       "2       0       2   client                                        Добрый день   \n",
       "3       0       3  manager  Меня зовут ангелина компания диджитал бизнес з...   \n",
       "4       0       4   client                                                Ага   \n",
       "\n",
       "       greeting   manager          company bye  \n",
       "0                                               \n",
       "1  здравствуйте                                 \n",
       "2                                               \n",
       "3                ангелина  диджитал бизнес      \n",
       "4                                               "
      ]
     },
     "execution_count": 3,
     "metadata": {},
     "output_type": "execute_result"
    }
   ],
   "source": [
    "ext_df = extend_data(df, results).fillna('')\n",
    "ext_df[:5]"
   ]
  }
 ],
 "metadata": {
  "kernelspec": {
   "display_name": "Python 3.8.12 ('nlp_env')",
   "language": "python",
   "name": "python3"
  },
  "language_info": {
   "codemirror_mode": {
    "name": "ipython",
    "version": 3
   },
   "file_extension": ".py",
   "mimetype": "text/x-python",
   "name": "python",
   "nbconvert_exporter": "python",
   "pygments_lexer": "ipython3",
   "version": "3.8.12"
  },
  "orig_nbformat": 4,
  "vscode": {
   "interpreter": {
    "hash": "493ec5a1ab30b110d8b115a6b4f8dce660b031311c57e6c3d9fb645ae4d2933e"
   }
  }
 },
 "nbformat": 4,
 "nbformat_minor": 2
}
